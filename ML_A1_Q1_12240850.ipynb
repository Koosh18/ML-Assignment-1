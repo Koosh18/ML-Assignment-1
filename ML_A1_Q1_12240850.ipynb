{
  "nbformat": 4,
  "nbformat_minor": 0,
  "metadata": {
    "colab": {
      "provenance": []
    },
    "kernelspec": {
      "name": "python3",
      "display_name": "Python 3"
    },
    "language_info": {
      "name": "python"
    }
  },
  "cells": [
    {
      "cell_type": "code",
      "execution_count": 2,
      "metadata": {
        "colab": {
          "base_uri": "https://localhost:8080/"
        },
        "id": "bl9W5dcuk31R",
        "outputId": "4c1f8e92-1aca-45fb-cfa6-e50b7ce5e0da"
      },
      "outputs": [
        {
          "output_type": "stream",
          "name": "stdout",
          "text": [
            "Mean:\n",
            " [8.  8.5]\n",
            "Standard Deviation:\n",
            " [4.47213595 4.15331193]\n",
            "Standardized Dataset:\n",
            " [[-1.34164079 -0.84270097]\n",
            " [-0.4472136  -1.08347268]\n",
            " [ 0.4472136   0.60192927]\n",
            " [ 1.34164079  1.32424438]]\n",
            "Covariance Matrix:\n",
            " [[1.33333333 1.22033231]\n",
            " [1.22033231 1.33333333]]\n",
            "Eigenvalues:\n",
            " [2.55366564 0.11300102]\n",
            "Eigenvectors:\n",
            " [[ 0.70710678 -0.70710678]\n",
            " [ 0.70710678  0.70710678]]\n",
            "Normalized Eigenvectors:\n",
            " [[ 0.70710678 -0.70710678]\n",
            " [ 0.70710678  0.70710678]]\n",
            "New Dataset after Projection:\n",
            " [-1.54456287 -1.08235864  0.74185603  1.88506548]\n",
            "New Dataset after Projection:\n",
            " [ 0.35280373 -0.44990311  0.1094005  -0.01230111]\n"
          ]
        }
      ],
      "source": [
        "import numpy as np\n",
        "\n",
        "\n",
        "# Step 1: Create the dataset\n",
        "X = np.array([\n",
        "    [2, 5],\n",
        "    [6, 4],\n",
        "    [10, 11],\n",
        "    [14, 14]\n",
        "])\n",
        "\n",
        "mean = np.mean(X, axis=0)\n",
        "std_dev = np.std(X, axis=0)\n",
        "\n",
        "# Standardize the dataset\n",
        "X_standardized = (X - mean) / std_dev\n",
        "\n",
        "print(\"Mean:\\n\", mean)\n",
        "print(\"Standard Deviation:\\n\", std_dev)\n",
        "print(\"Standardized Dataset:\\n\", X_standardized)\n",
        "X = X_standardized\n",
        "\n",
        "# Step 2: Calculate the covariance matrix\n",
        "cov_matrix = np.cov(X.T)\n",
        "\n",
        "\n",
        "# Step 3: Calculate the eigenvalues and eigenvectors\n",
        "eigenvalues, eigenvectors = np.linalg.eig(cov_matrix)\n",
        "\n",
        "# Output the results\n",
        "print(\"Covariance Matrix:\\n\", cov_matrix)\n",
        "print(\"Eigenvalues:\\n\", eigenvalues)\n",
        "print(\"Eigenvectors:\\n\", eigenvectors)\n",
        "\n",
        "#Step4 : Normalize the eigen vectors\n",
        "\n",
        "norm_eigenvectors = eigenvectors / np.linalg.norm(eigenvectors, axis=0)\n",
        "\n",
        "# Output the normalized eigenvectors\n",
        "print(\"Normalized Eigenvectors:\\n\", norm_eigenvectors)\n",
        "\n",
        "# Step 5: Project the original data onto the new basis (eigenvectors)\n",
        "\n",
        "\n",
        "mean_X = np.mean(X, axis=0)\n",
        "X_centered = X - mean_X\n",
        "first_pc = norm_eigenvectors[:, 0]\n",
        "second_pc = norm_eigenvectors[:, 1]\n",
        "X_1D = np.dot(X_centered, first_pc)\n",
        "\n",
        "# Output the new dataset\n",
        "print(\"New Dataset after Projection:\\n\", X_1D)\n",
        "\n",
        "X_1D2 = np.dot(X_centered,second_pc )\n",
        "\n",
        "# Output the new dataset\n",
        "print(\"New Dataset after Projection:\\n\", X_1D2)\n",
        "\n",
        "\n",
        "\n",
        "\n",
        "\n",
        "\n"
      ]
    }
  ]
}